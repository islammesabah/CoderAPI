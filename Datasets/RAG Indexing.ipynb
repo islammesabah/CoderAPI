{
 "cells": [
  {
   "cell_type": "code",
   "execution_count": 111,
   "id": "981138d6",
   "metadata": {
    "scrolled": true
   },
   "outputs": [
    {
     "name": "stdout",
     "output_type": "stream",
     "text": [
      "\u001b[33m  WARNING: The script chroma is installed in '/home/mesabah/.local/bin' which is not on PATH.\n",
      "  Consider adding this directory to PATH or, if you prefer to suppress this warning, use --no-warn-script-location.\u001b[0m\u001b[33m\n",
      "\u001b[0m\u001b[33m  WARNING: The script langchain-server is installed in '/home/mesabah/.local/bin' which is not on PATH.\n",
      "  Consider adding this directory to PATH or, if you prefer to suppress this warning, use --no-warn-script-location.\u001b[0m\u001b[33m\n",
      "\u001b[0m\u001b[31mERROR: pip's dependency resolver does not currently take into account all the packages that are installed. This behaviour is the source of the following dependency conflicts.\n",
      "llama-index 0.8.41 requires urllib3<2, but you have urllib3 2.2.1 which is incompatible.\u001b[0m\u001b[31m\n",
      "\u001b[0m"
     ]
    }
   ],
   "source": [
    "!pip install -q -U pip langchain tiktoken chromadb\n",
    "!pip install -q langchain==0.0.332\n",
    "# !pip install -q chromadb==0.4.10"
   ]
  },
  {
   "cell_type": "code",
   "execution_count": 112,
   "id": "2a9a1077",
   "metadata": {},
   "outputs": [
    {
     "name": "stdout",
     "output_type": "stream",
     "text": [
      "Name: langchain\r\n",
      "Version: 0.0.332\r\n",
      "Summary: Building applications with LLMs through composability\r\n",
      "Home-page: https://github.com/langchain-ai/langchain\r\n",
      "Author: \r\n",
      "Author-email: \r\n",
      "License: MIT\r\n",
      "Location: /home/mesabah/.local/lib/python3.10/site-packages\r\n",
      "Requires: aiohttp, anyio, async-timeout, dataclasses-json, jsonpatch, langsmith, numpy, pydantic, PyYAML, requests, SQLAlchemy, tenacity\r\n",
      "Required-by: llama-index\r\n"
     ]
    }
   ],
   "source": [
    "!pip show langchain"
   ]
  },
  {
   "cell_type": "code",
   "execution_count": 1,
   "id": "ff295f4c",
   "metadata": {},
   "outputs": [],
   "source": [
    "import os\n",
    "import pandas as pd\n",
    "from pathlib import Path\n",
    "from langchain.embeddings import OpenAIEmbeddings    \n",
    "from langchain.vectorstores import Chroma\n",
    "from langchain.globals import set_llm_cache\n",
    "from langchain.retrievers.multi_query import MultiQueryRetriever\n",
    "from langchain_community.document_loaders import DirectoryLoader\n",
    "from langchain_community.document_loaders import TextLoader\n",
    "from langchain.cache import InMemoryCache\n",
    "from langchain.llms import OpenAI\n",
    "from tqdm import tqdm\n",
    "import json"
   ]
  },
  {
   "cell_type": "code",
   "execution_count": 2,
   "id": "456be7d6",
   "metadata": {},
   "outputs": [],
   "source": [
    "os.environ[\"OPENAI_API_KEY\"] = 'sk-'"
   ]
  },
  {
   "cell_type": "markdown",
   "id": "fc8fea5a",
   "metadata": {},
   "source": [
    "## load the splits"
   ]
  },
  {
   "cell_type": "code",
   "execution_count": 3,
   "id": "822424e4",
   "metadata": {},
   "outputs": [],
   "source": [
    "api_list = pd.read_csv(\"APIs List.csv\")"
   ]
  },
  {
   "cell_type": "code",
   "execution_count": 4,
   "id": "1fbcc96f",
   "metadata": {},
   "outputs": [
    {
     "name": "stdout",
     "output_type": "stream",
     "text": [
      "Load Files of PyDrive2API ................\n"
     ]
    },
    {
     "name": "stderr",
     "output_type": "stream",
     "text": [
      "100%|██████████████████████████████████████████████████████████████████████████████████████| 5/5 [00:00<00:00, 1380.80it/s]\n"
     ]
    },
    {
     "name": "stdout",
     "output_type": "stream",
     "text": [
      "Load Files of pytensorAPI ................\n"
     ]
    },
    {
     "name": "stderr",
     "output_type": "stream",
     "text": [
      "100%|████████████████████████████████████████████████████████████████████████████████████| 85/85 [00:00<00:00, 2198.03it/s]\n"
     ]
    },
    {
     "name": "stdout",
     "output_type": "stream",
     "text": [
      "Load Files of ydata-profilingAPI ................\n"
     ]
    },
    {
     "name": "stderr",
     "output_type": "stream",
     "text": [
      "100%|████████████████████████████████████████████████████████████████████████████████████| 13/13 [00:00<00:00, 1855.82it/s]\n"
     ]
    },
    {
     "name": "stdout",
     "output_type": "stream",
     "text": [
      "Load Files of langchainAPI ................\n"
     ]
    },
    {
     "name": "stderr",
     "output_type": "stream",
     "text": [
      "100%|████████████████████████████████████████████████████████████████████████████████████| 13/13 [00:00<00:00, 1677.77it/s]\n"
     ]
    },
    {
     "name": "stdout",
     "output_type": "stream",
     "text": [
      "Load Files of diffusersAPI ................\n"
     ]
    },
    {
     "name": "stderr",
     "output_type": "stream",
     "text": [
      "100%|██████████████████████████████████████████████████████████████████████████████████| 295/295 [00:00<00:00, 2229.06it/s]\n"
     ]
    },
    {
     "name": "stdout",
     "output_type": "stream",
     "text": [
      "Load Files of evaluateAPI ................\n"
     ]
    },
    {
     "name": "stderr",
     "output_type": "stream",
     "text": [
      "100%|████████████████████████████████████████████████████████████████████████████████████| 21/21 [00:00<00:00, 2144.38it/s]\n"
     ]
    },
    {
     "name": "stdout",
     "output_type": "stream",
     "text": [
      "Load Files of argillaAPI ................\n"
     ]
    },
    {
     "name": "stderr",
     "output_type": "stream",
     "text": [
      "100%|████████████████████████████████████████████████████████████████████████████████████| 36/36 [00:00<00:00, 1646.35it/s]\n"
     ]
    },
    {
     "name": "stdout",
     "output_type": "stream",
     "text": [
      "Load Files of llama-indexAPI ................\n"
     ]
    },
    {
     "name": "stderr",
     "output_type": "stream",
     "text": [
      "100%|████████████████████████████████████████████████████████████████████████████████████| 66/66 [00:00<00:00, 2096.61it/s]\n"
     ]
    },
    {
     "name": "stdout",
     "output_type": "stream",
     "text": [
      "Load Files of peftAPI ................\n"
     ]
    },
    {
     "name": "stderr",
     "output_type": "stream",
     "text": [
      "100%|████████████████████████████████████████████████████████████████████████████████████| 16/16 [00:00<00:00, 1770.31it/s]\n"
     ]
    },
    {
     "name": "stdout",
     "output_type": "stream",
     "text": [
      "Load Files of rustworkxAPI ................\n"
     ]
    },
    {
     "name": "stderr",
     "output_type": "stream",
     "text": [
      "100%|████████████████████████████████████████████████████████████████████████████████████| 10/10 [00:00<00:00, 1023.88it/s]\n"
     ]
    },
    {
     "name": "stdout",
     "output_type": "stream",
     "text": [
      "Load Files of pygloveAPI ................\n"
     ]
    },
    {
     "name": "stderr",
     "output_type": "stream",
     "text": [
      "100%|██████████████████████████████████████████████████████████████████████████████████| 153/153 [00:00<00:00, 2252.02it/s]\n"
     ]
    },
    {
     "name": "stdout",
     "output_type": "stream",
     "text": [
      "Load Files of supervisionAPI ................\n"
     ]
    },
    {
     "name": "stderr",
     "output_type": "stream",
     "text": [
      "100%|████████████████████████████████████████████████████████████████████████████████████| 87/87 [00:00<00:00, 2061.00it/s]\n"
     ]
    },
    {
     "name": "stdout",
     "output_type": "stream",
     "text": [
      "Load Files of linear-operatorAPI ................\n"
     ]
    },
    {
     "name": "stderr",
     "output_type": "stream",
     "text": [
      "100%|████████████████████████████████████████████████████████████████████████████████████| 21/21 [00:00<00:00, 1747.00it/s]\n"
     ]
    },
    {
     "name": "stdout",
     "output_type": "stream",
     "text": [
      "Load Files of mmengineAPI ................\n"
     ]
    },
    {
     "name": "stderr",
     "output_type": "stream",
     "text": [
      "100%|██████████████████████████████████████████████████████████████████████████████████| 167/167 [00:00<00:00, 2195.77it/s]\n"
     ]
    },
    {
     "name": "stdout",
     "output_type": "stream",
     "text": [
      "Load Files of apeyeAPI ................\n"
     ]
    },
    {
     "name": "stderr",
     "output_type": "stream",
     "text": [
      "100%|██████████████████████████████████████████████████████████████████████████████████████| 9/9 [00:00<00:00, 1384.87it/s]\n"
     ]
    },
    {
     "name": "stdout",
     "output_type": "stream",
     "text": [
      "Load Files of bitstringAPI ................\n"
     ]
    },
    {
     "name": "stderr",
     "output_type": "stream",
     "text": [
      "100%|████████████████████████████████████████████████████████████████████████████████████| 29/29 [00:00<00:00, 1530.38it/s]\n"
     ]
    },
    {
     "name": "stdout",
     "output_type": "stream",
     "text": [
      "Load Files of datacompyAPI ................\n"
     ]
    },
    {
     "name": "stderr",
     "output_type": "stream",
     "text": [
      "100%|██████████████████████████████████████████████████████████████████████████████████████| 5/5 [00:00<00:00, 1560.85it/s]\n"
     ]
    },
    {
     "name": "stdout",
     "output_type": "stream",
     "text": [
      "Load Files of emojiAPI ................\n"
     ]
    },
    {
     "name": "stderr",
     "output_type": "stream",
     "text": [
      "100%|██████████████████████████████████████████████████████████████████████████████████████| 4/4 [00:00<00:00, 1362.01it/s]\n"
     ]
    },
    {
     "name": "stdout",
     "output_type": "stream",
     "text": [
      "Load Files of chardetAPI ................\n"
     ]
    },
    {
     "name": "stderr",
     "output_type": "stream",
     "text": [
      "100%|██████████████████████████████████████████████████████████████████████████████████████| 5/5 [00:00<00:00, 1642.76it/s]\n"
     ]
    },
    {
     "name": "stdout",
     "output_type": "stream",
     "text": [
      "Load Files of clickAPI ................\n"
     ]
    },
    {
     "name": "stderr",
     "output_type": "stream",
     "text": [
      "100%|████████████████████████████████████████████████████████████████████████████████████| 12/12 [00:00<00:00, 1599.15it/s]\n"
     ]
    },
    {
     "name": "stdout",
     "output_type": "stream",
     "text": [
      "Load Files of category-encodersAPI ................\n"
     ]
    },
    {
     "name": "stderr",
     "output_type": "stream",
     "text": [
      "100%|████████████████████████████████████████████████████████████████████████████████████| 26/26 [00:00<00:00, 1629.93it/s]\n"
     ]
    },
    {
     "name": "stdout",
     "output_type": "stream",
     "text": [
      "Load Files of scipyAPI ................\n"
     ]
    },
    {
     "name": "stderr",
     "output_type": "stream",
     "text": [
      "100%|██████████████████████████████████████████████████████████████████████████████████| 131/131 [00:00<00:00, 2245.66it/s]\n"
     ]
    },
    {
     "name": "stdout",
     "output_type": "stream",
     "text": [
      "Load Files of xarrayAPI ................\n"
     ]
    },
    {
     "name": "stderr",
     "output_type": "stream",
     "text": [
      "100%|████████████████████████████████████████████████████████████████████████████████████| 26/26 [00:00<00:00, 1954.20it/s]\n"
     ]
    },
    {
     "name": "stdout",
     "output_type": "stream",
     "text": [
      "Load Files of gymnasiumAPI ................\n"
     ]
    },
    {
     "name": "stderr",
     "output_type": "stream",
     "text": [
      "100%|████████████████████████████████████████████████████████████████████████████████████| 54/54 [00:00<00:00, 1839.10it/s]\n"
     ]
    },
    {
     "name": "stdout",
     "output_type": "stream",
     "text": [
      "Load Files of datasetsAPI ................\n"
     ]
    },
    {
     "name": "stderr",
     "output_type": "stream",
     "text": [
      "100%|████████████████████████████████████████████████████████████████████████████████████| 97/97 [00:00<00:00, 2139.42it/s]\n"
     ]
    },
    {
     "name": "stdout",
     "output_type": "stream",
     "text": [
      "Load Files of hypothesisAPI ................\n"
     ]
    },
    {
     "name": "stderr",
     "output_type": "stream",
     "text": [
      "100%|██████████████████████████████████████████████████████████████████████████████████| 160/160 [00:00<00:00, 2025.26it/s]\n"
     ]
    },
    {
     "name": "stdout",
     "output_type": "stream",
     "text": [
      "Load Files of ibis-frameworkAPI ................\n"
     ]
    },
    {
     "name": "stderr",
     "output_type": "stream",
     "text": [
      "100%|██████████████████████████████████████████████████████████████████████████████████| 132/132 [00:00<00:00, 2216.92it/s]\n"
     ]
    },
    {
     "name": "stdout",
     "output_type": "stream",
     "text": [
      "Load Files of json-tricksAPI ................\n"
     ]
    },
    {
     "name": "stderr",
     "output_type": "stream",
     "text": [
      "100%|████████████████████████████████████████████████████████████████████████████████████| 21/21 [00:00<00:00, 1389.94it/s]\n"
     ]
    },
    {
     "name": "stdout",
     "output_type": "stream",
     "text": [
      "Load Files of pytorch-lightningAPI ................\n"
     ]
    },
    {
     "name": "stderr",
     "output_type": "stream",
     "text": [
      "100%|██████████████████████████████████████████████████████████████████████████████████████| 6/6 [00:00<00:00, 1197.75it/s]\n"
     ]
    },
    {
     "name": "stdout",
     "output_type": "stream",
     "text": [
      "Load Files of rapidfuzzAPI ................\n"
     ]
    },
    {
     "name": "stderr",
     "output_type": "stream",
     "text": [
      "100%|████████████████████████████████████████████████████████████████████████████████████| 34/34 [00:00<00:00, 2007.83it/s]\n"
     ]
    },
    {
     "name": "stdout",
     "output_type": "stream",
     "text": [
      "Load Files of mlflowAPI ................\n"
     ]
    },
    {
     "name": "stderr",
     "output_type": "stream",
     "text": [
      "100%|██████████████████████████████████████████████████████████████████████████████████| 128/128 [00:00<00:00, 2327.54it/s]\n"
     ]
    },
    {
     "name": "stdout",
     "output_type": "stream",
     "text": [
      "Load Files of more-itertoolsAPI ................\n"
     ]
    },
    {
     "name": "stderr",
     "output_type": "stream",
     "text": [
      "100%|████████████████████████████████████████████████████████████████████████████████████| 11/11 [00:00<00:00, 1780.47it/s]\n"
     ]
    },
    {
     "name": "stdout",
     "output_type": "stream",
     "text": [
      "Load Files of optunaAPI ................\n"
     ]
    },
    {
     "name": "stderr",
     "output_type": "stream",
     "text": [
      "100%|████████████████████████████████████████████████████████████████████████████████████| 97/97 [00:00<00:00, 2052.30it/s]\n"
     ]
    },
    {
     "name": "stdout",
     "output_type": "stream",
     "text": [
      "Load Files of plotlyAPI ................\n"
     ]
    },
    {
     "name": "stderr",
     "output_type": "stream",
     "text": [
      "100%|██████████████████████████████████████████████████████████████████████████████████| 161/161 [00:00<00:00, 2360.24it/s]\n"
     ]
    },
    {
     "name": "stdout",
     "output_type": "stream",
     "text": [
      "Load Files of polarsAPI ................\n"
     ]
    },
    {
     "name": "stderr",
     "output_type": "stream",
     "text": [
      "100%|████████████████████████████████████████████████████████████████████████████████████| 63/63 [00:00<00:00, 1936.20it/s]\n"
     ]
    },
    {
     "name": "stdout",
     "output_type": "stream",
     "text": [
      "Load Files of PygmentsAPI ................\n"
     ]
    },
    {
     "name": "stderr",
     "output_type": "stream",
     "text": [
      "100%|██████████████████████████████████████████████████████████████████████████████████████| 5/5 [00:00<00:00, 1623.69it/s]\n"
     ]
    },
    {
     "name": "stdout",
     "output_type": "stream",
     "text": [
      "Load Files of pypdfAPI ................\n"
     ]
    },
    {
     "name": "stderr",
     "output_type": "stream",
     "text": [
      "100%|████████████████████████████████████████████████████████████████████████████████████| 16/16 [00:00<00:00, 1441.00it/s]\n"
     ]
    },
    {
     "name": "stdout",
     "output_type": "stream",
     "text": [
      "Load Files of holidaysAPI ................\n"
     ]
    },
    {
     "name": "stderr",
     "output_type": "stream",
     "text": [
      "100%|███████████████████████████████████████████████████████████████████████████████████████| 4/4 [00:00<00:00, 866.68it/s]\n"
     ]
    },
    {
     "name": "stdout",
     "output_type": "stream",
     "text": [
      "Load Files of jsonschemaAPI ................\n"
     ]
    },
    {
     "name": "stderr",
     "output_type": "stream",
     "text": [
      "100%|██████████████████████████████████████████████████████████████████████████████████████| 5/5 [00:00<00:00, 1624.31it/s]\n"
     ]
    },
    {
     "name": "stdout",
     "output_type": "stream",
     "text": [
      "Load Files of validatorsAPI ................\n"
     ]
    },
    {
     "name": "stderr",
     "output_type": "stream",
     "text": [
      "100%|████████████████████████████████████████████████████████████████████████████████████| 36/36 [00:00<00:00, 1723.04it/s]\n"
     ]
    },
    {
     "name": "stdout",
     "output_type": "stream",
     "text": [
      "Load Files of richAPI ................\n"
     ]
    },
    {
     "name": "stderr",
     "output_type": "stream",
     "text": [
      "100%|████████████████████████████████████████████████████████████████████████████████████| 30/30 [00:00<00:00, 1515.83it/s]\n"
     ]
    },
    {
     "name": "stdout",
     "output_type": "stream",
     "text": [
      "Load Files of spacyAPI ................\n"
     ]
    },
    {
     "name": "stderr",
     "output_type": "stream",
     "text": [
      "100%|██████████████████████████████████████████████████████████████████████████████████| 263/263 [00:00<00:00, 2433.59it/s]\n"
     ]
    },
    {
     "name": "stdout",
     "output_type": "stream",
     "text": [
      "Load Files of stumpyAPI ................\n"
     ]
    },
    {
     "name": "stderr",
     "output_type": "stream",
     "text": [
      "100%|████████████████████████████████████████████████████████████████████████████████████| 29/29 [00:00<00:00, 1469.09it/s]\n"
     ]
    },
    {
     "name": "stdout",
     "output_type": "stream",
     "text": [
      "Load Files of toxAPI ................\n"
     ]
    },
    {
     "name": "stderr",
     "output_type": "stream",
     "text": [
      "100%|████████████████████████████████████████████████████████████████████████████████████| 80/80 [00:00<00:00, 1878.24it/s]\n"
     ]
    },
    {
     "name": "stdout",
     "output_type": "stream",
     "text": [
      "Load Files of pymcAPI ................\n"
     ]
    },
    {
     "name": "stderr",
     "output_type": "stream",
     "text": [
      "100%|██████████████████████████████████████████████████████████████████████████████████| 157/157 [00:00<00:00, 2435.23it/s]\n"
     ]
    },
    {
     "name": "stdout",
     "output_type": "stream",
     "text": [
      "Load Files of SQLAlchemyAPI ................\n"
     ]
    },
    {
     "name": "stderr",
     "output_type": "stream",
     "text": [
      "100%|████████████████████████████████████████████████████████████████████████████████████| 38/38 [00:00<00:00, 2310.07it/s]\n"
     ]
    },
    {
     "name": "stdout",
     "output_type": "stream",
     "text": [
      "Load Files of tensorflowAPI ................\n"
     ]
    },
    {
     "name": "stderr",
     "output_type": "stream",
     "text": [
      "100%|████████████████████████████████████████████████████████████████████████████████| 2827/2827 [00:01<00:00, 2464.77it/s]\n"
     ]
    },
    {
     "name": "stdout",
     "output_type": "stream",
     "text": [
      "Load Files of numpyAPI ................\n"
     ]
    },
    {
     "name": "stderr",
     "output_type": "stream",
     "text": [
      "100%|██████████████████████████████████████████████████████████████████████████████████| 289/289 [00:00<00:00, 2411.39it/s]\n"
     ]
    },
    {
     "name": "stdout",
     "output_type": "stream",
     "text": [
      "Load Files of scikit-learnAPI ................\n"
     ]
    },
    {
     "name": "stderr",
     "output_type": "stream",
     "text": [
      "100%|██████████████████████████████████████████████████████████████████████████████████| 817/817 [00:00<00:00, 2439.47it/s]\n"
     ]
    },
    {
     "name": "stdout",
     "output_type": "stream",
     "text": [
      "Load Files of pandasAPI ................\n"
     ]
    },
    {
     "name": "stderr",
     "output_type": "stream",
     "text": [
      "100%|██████████████████████████████████████████████████████████████████████████████████| 108/108 [00:00<00:00, 2187.61it/s]\n"
     ]
    }
   ],
   "source": [
    "API_to_Splits = {}\n",
    "for _, row in api_list.iterrows():\n",
    "    print(\"Load Files of \"+row['Name']+\"API ................\")\n",
    "    loader = DirectoryLoader(\n",
    "        'data/'+row['Name']+'/'+row['API_Ref_File'][:-4]+\"/\",\n",
    "        glob=\"**/*.txt\",\n",
    "        loader_cls=TextLoader,\n",
    "        show_progress=True\n",
    "    )\n",
    "    docs = loader.load()\n",
    "    API_to_Splits[row['Name']] = docs"
   ]
  },
  {
   "cell_type": "markdown",
   "id": "c7634198",
   "metadata": {},
   "source": [
    "## Embedding and Storing"
   ]
  },
  {
   "cell_type": "code",
   "execution_count": 3,
   "id": "47df388f",
   "metadata": {},
   "outputs": [],
   "source": [
    "# cach prompts\n",
    "set_llm_cache(InMemoryCache())"
   ]
  },
  {
   "cell_type": "code",
   "execution_count": 7,
   "id": "720a75d4",
   "metadata": {},
   "outputs": [
    {
     "name": "stderr",
     "output_type": "stream",
     "text": [
      "100%|██████████████████████████████████████████████████████████████████████████████████████| 50/50 [08:30<00:00, 10.22s/it]\n"
     ]
    }
   ],
   "source": [
    "for api in tqdm(API_to_Splits):\n",
    "    from langchain.vectorstores import Chroma   \n",
    "    Chroma().delete_collection()\n",
    "    vectorstore = Chroma.from_documents(\n",
    "                    documents=API_to_Splits[api],\n",
    "                    embedding=OpenAIEmbeddings(disallowed_special=()),\n",
    "                    persist_directory=\"./chroma_db/\"+api\n",
    "                    ) "
   ]
  },
  {
   "cell_type": "markdown",
   "id": "634d871b",
   "metadata": {},
   "source": [
    "## Retrieving"
   ]
  },
  {
   "cell_type": "code",
   "execution_count": 3,
   "id": "9aa0f280",
   "metadata": {},
   "outputs": [],
   "source": [
    "def retrieve_splits(instant):\n",
    "    instruction = instant[\"instruction\"]\n",
    "    api = instant[\"api\"]\n",
    "    set_llm_cache(InMemoryCache())\n",
    "    vectorstore = Chroma(persist_directory=\"./chroma_db/\"+api, embedding_function=OpenAIEmbeddings())\n",
    "    retriever = vectorstore.as_retriever(search_type=\"similarity\", search_kwargs={\"k\": 3})\n",
    "    retriever_from_llm = MultiQueryRetriever.from_llm(\n",
    "            retriever=retriever, \n",
    "            llm=OpenAI(\n",
    "                model_name=\"gpt-3.5-turbo-instruct\",\n",
    "                temperature=0.5\n",
    "                )\n",
    "        )\n",
    "    unique_splits = retriever_from_llm.get_relevant_documents(query=instruction)\n",
    "    for i, split in enumerate(unique_splits):\n",
    "        instant[\"input_\"+str(i)] = split.page_content\n",
    "    return instant"
   ]
  },
  {
   "cell_type": "code",
   "execution_count": 4,
   "id": "6909cb82",
   "metadata": {},
   "outputs": [
    {
     "name": "stderr",
     "output_type": "stream",
     "text": [
      "100%|██████████| 127/127 [07:02<00:00,  3.33s/it]\n"
     ]
    }
   ],
   "source": [
    "# Get best 3 splits for testing sataset instruction\n",
    "with open(\"./pairs_data/cleaned_data/data_test.json\", 'r') as file:\n",
    "    data = json.load(file)\n",
    "    \n",
    "data_docu = []\n",
    "for instant in tqdm(data):\n",
    "    instant.pop('input', None)\n",
    "    data_docu.append(retrieve_splits(instant))\n",
    "    \n",
    "with open('./pairs_data/cleaned_data/data_splits_docu_test.json', 'w') as f:\n",
    "    json.dump(data_docu, f)"
   ]
  },
  {
   "cell_type": "code",
   "execution_count": 22,
   "id": "4c810f36",
   "metadata": {},
   "outputs": [
    {
     "name": "stderr",
     "output_type": "stream",
     "text": [
      "100%|████████████████████████████████████████████████████████████████████████████████████| 811/811 [30:27<00:00,  2.25s/it]\n"
     ]
    }
   ],
   "source": [
    "# Get best 3 splits for training sataset instruction\n",
    "with open(\"./pairs_data/cleaned_data/data_train.json\", 'r') as file:\n",
    "    data = json.load(file)\n",
    "    \n",
    "data_docu = []\n",
    "for instant in tqdm(data):\n",
    "    instant.pop('input', None)\n",
    "    data_docu.append(retrieve_splits(instant))\n",
    "    \n",
    "with open('./pairs_data/cleaned_data/data_splits_docu_train.json', 'w') as f:\n",
    "    json.dump(data_docu, f)"
   ]
  },
  {
   "cell_type": "markdown",
   "id": "680178c8",
   "metadata": {},
   "source": [
    "Combine the split files into one input"
   ]
  },
  {
   "cell_type": "code",
   "execution_count": 5,
   "id": "f578f0c3",
   "metadata": {},
   "outputs": [
    {
     "name": "stderr",
     "output_type": "stream",
     "text": [
      "100%|██████████| 811/811 [00:00<00:00, 31130.62it/s]"
     ]
    },
    {
     "name": "stderr",
     "output_type": "stream",
     "text": [
      "\n"
     ]
    }
   ],
   "source": [
    "with open(\"./pairs_data/cleaned_data/data_splits_docu_train.json\", 'r') as file:\n",
    "    data = json.load(file)\n",
    "\n",
    "data_docu = []\n",
    "for instant in tqdm(data):\n",
    "    input = \"\"\n",
    "    i = 0\n",
    "    while True:\n",
    "        key = \"input_\"+str(i)\n",
    "        if key in instant.keys():\n",
    "            input += \"\\n\\n==================\\n Document \"+str(i)+\" \\n----------------\\n\"\n",
    "            input += instant[key]\n",
    "            instant.pop(key, None)\n",
    "        else:\n",
    "            break\n",
    "        i+=1\n",
    "    instant['documentation'] = input\n",
    "    data_docu.append(instant)\n",
    "\n",
    "with open('./pairs_data/cleaned_data/data_docu_train.json', 'w') as f:\n",
    "    json.dump(data_docu, f)"
   ]
  },
  {
   "cell_type": "code",
   "execution_count": 6,
   "id": "ef9ea4d2",
   "metadata": {},
   "outputs": [
    {
     "name": "stderr",
     "output_type": "stream",
     "text": [
      "100%|██████████| 127/127 [00:00<00:00, 13548.94it/s]"
     ]
    },
    {
     "name": "stderr",
     "output_type": "stream",
     "text": [
      "\n"
     ]
    }
   ],
   "source": [
    "with open(\"./pairs_data/cleaned_data/data_splits_docu_test.json\", 'r') as file:\n",
    "    data = json.load(file)\n",
    "\n",
    "data_docu = []\n",
    "for instant in tqdm(data):\n",
    "    input = \"\"\n",
    "    i = 0\n",
    "    while True:\n",
    "        key = \"input_\"+str(i)\n",
    "        if key in instant.keys():\n",
    "            input += \"\\n\\n==================\\n Document \"+str(i)+\" \\n----------------\\n\"\n",
    "            input += instant[key]\n",
    "            instant.pop(key, None)\n",
    "        else:\n",
    "            break\n",
    "        i+=1\n",
    "    instant['documentation'] = input\n",
    "    data_docu.append(instant)\n",
    "\n",
    "with open('./pairs_data/cleaned_data/data_docu_test.json', 'w') as f:\n",
    "    json.dump(data_docu, f, ensure_ascii=False, indent=4)"
   ]
  },
  {
   "cell_type": "code",
   "execution_count": null,
   "id": "ebc210cd",
   "metadata": {},
   "outputs": [],
   "source": []
  }
 ],
 "metadata": {
  "kernelspec": {
   "display_name": "Python 3 (ipykernel)",
   "language": "python",
   "name": "python3"
  },
  "language_info": {
   "codemirror_mode": {
    "name": "ipython",
    "version": 3
   },
   "file_extension": ".py",
   "mimetype": "text/x-python",
   "name": "python",
   "nbconvert_exporter": "python",
   "pygments_lexer": "ipython3",
   "version": "3.10.12"
  }
 },
 "nbformat": 4,
 "nbformat_minor": 5
}
